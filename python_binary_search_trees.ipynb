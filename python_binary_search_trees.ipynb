{
  "cells": [
    {
      "cell_type": "markdown",
      "id": "governmental-worry",
      "metadata": {
        "id": "governmental-worry"
      },
      "source": [
        "## Problem \n",
        "\n",
        "\n",
        "In this notebook, we'll focus on solving the following problem:\n",
        "\n",
        "> **QUESTION 1**: As a senior backend engineer at Jovian, you are tasked with developing a fast in-memory data structure to manage profile information (username, name and email) for 100 million users. It should allow the following operations to be performed efficiently:\n",
        "> \n",
        "> 1. **Insert** the profile information for a new user.\n",
        "> 2. **Find** the profile information of a user, given their username\n",
        "> 3. **Update** the profile information of a user, given their usrname\n",
        "> 5. **List** all the users of the platform, sorted by username\n",
        ">\n",
        "> You can assume that usernames are unique. \n",
        "\n",
        "Along the way, we will also solve several other questions related to binary trees and binary search trees that are often asked in coding interviews and assessments. "
      ]
    },
    {
      "cell_type": "markdown",
      "id": "biblical-recommendation",
      "metadata": {
        "id": "biblical-recommendation"
      },
      "source": [
        "We can now create an object with some properties."
      ]
    },
    {
      "cell_type": "code",
      "execution_count": 10,
      "id": "trying-listening",
      "metadata": {
        "id": "trying-listening"
      },
      "outputs": [],
      "source": [
        "class User:\n",
        "    def __init__(self, username, name, email):\n",
        "        self.username = username\n",
        "        self.name = name\n",
        "        self.email = email\n",
        "    \n",
        "    def introduce_yourself(self, guest_name):\n",
        "        print(\"Hi {}, I'm {}! Contact me at {} .\".format(guest_name, self.name, self.email))"
      ]
    },
    {
      "cell_type": "code",
      "execution_count": 11,
      "id": "previous-nicaragua",
      "metadata": {
        "id": "previous-nicaragua"
      },
      "outputs": [],
      "source": [
        "user3 = User('jane', 'Jane Doe', 'jane@doe.com')"
      ]
    },
    {
      "cell_type": "markdown",
      "id": "computational-affairs",
      "metadata": {
        "id": "computational-affairs"
      },
      "source": [
        "## 4. Implement the solution and test it using example inputs.\n",
        "\n",
        "The code for implementing the above solution is also fairly straightfoward."
      ]
    },
    {
      "cell_type": "code",
      "execution_count": 24,
      "id": "detailed-technician",
      "metadata": {
        "id": "detailed-technician"
      },
      "outputs": [],
      "source": [
        "class UserDatabase:\n",
        "    def __init__(self):\n",
        "        self.users = []\n",
        "    \n",
        "    def insert(self, user):\n",
        "        i = 0\n",
        "        while i < len(self.users):\n",
        "            # Find the first username greater than the new user's username\n",
        "            if self.users[i].username > user.username:\n",
        "                break\n",
        "            i += 1\n",
        "        self.users.insert(i, user)\n",
        "    \n",
        "    def find(self, username):\n",
        "        for user in self.users:\n",
        "            if user.username == username:\n",
        "                return user\n",
        "    \n",
        "    def update(self, user):\n",
        "        target = self.find(user.username)\n",
        "        target.name, target.email = user.name, user.email\n",
        "        \n",
        "    def list_all(self):\n",
        "        return self.users"
      ]
    },
    {
      "cell_type": "code",
      "execution_count": 25,
      "id": "useful-sperm",
      "metadata": {
        "id": "useful-sperm"
      },
      "outputs": [],
      "source": [
        "database = UserDatabase()"
      ]
    },
    {
      "cell_type": "markdown",
      "id": "bright-nothing",
      "metadata": {
        "id": "bright-nothing"
      },
      "source": [
        "## 6. Apply the right technique to overcome the inefficiency\n",
        "\n",
        "We can limit the number of iterations required for common operations like find, insert and update by organizing our data in the following structure, called a **binary tree**:\n",
        "\n",
        "<img src=\"https://i.imgur.com/lVqP63n.png\" width=\"520\">\n",
        "\n",
        "\n",
        "\n",
        "It's called a tree because it vaguely like an inverted tree trunk with branches. \n",
        "* The word \"binary\" indicates that each \"node\" in the tree can have at most 2 children (left or right). \n",
        "* Nodes can have 0, 1 or 2 children. Nodes that do not have any children are sometimes also called \"leaves\".\n",
        "* The single node at the top is called the \"root\" node, and it typically where operations like search, insertion etc. begin.\n",
        "\n",
        "<img src=\"https://i.imgur.com/TZHMKJr.png\" width=\"400\">\n"
      ]
    },
    {
      "cell_type": "markdown",
      "id": "fatty-brook",
      "metadata": {
        "id": "fatty-brook"
      },
      "source": [
        "## Binary Tree\n",
        "\n",
        "> **QUESTION 2**: Implement a binary tree using Python, and show its usage with some examples.\n",
        "\n",
        "To begin, we'll create simple binary tree (without any of the additional properties) containing numbers as keys within nodes. Here's an example:\n",
        "\n",
        "<img src=\"https://i.imgur.com/hg2ZG5h.png\" width=\"240\">\n",
        "\n",
        "Here's a simple class representing a node within a binary tree.\n"
      ]
    },
    {
      "cell_type": "code",
      "execution_count": 37,
      "id": "concerned-guarantee",
      "metadata": {
        "id": "concerned-guarantee"
      },
      "outputs": [],
      "source": [
        "class TreeNode:\n",
        "    def __init__(self, key):\n",
        "        self.key = key\n",
        "        self.left = None\n",
        "        self.right = None"
      ]
    },
    {
      "cell_type": "code",
      "execution_count": 46,
      "id": "rising-zealand",
      "metadata": {
        "id": "rising-zealand"
      },
      "outputs": [],
      "source": [
        "tree_tuple = ((1,3,None), 2, ((None, 3, 4), 5, (6, 7, 8)))"
      ]
    },
    {
      "cell_type": "code",
      "execution_count": 47,
      "id": "defined-string",
      "metadata": {
        "id": "defined-string"
      },
      "outputs": [],
      "source": [
        "def parse_tuple(data):\n",
        "    # print(data)\n",
        "    if isinstance(data, tuple) and len(data) == 3:\n",
        "        node = TreeNode(data[1])\n",
        "        node.left = parse_tuple(data[0])\n",
        "        node.right = parse_tuple(data[2])\n",
        "    elif data is None:\n",
        "        node = None\n",
        "    else:\n",
        "        node = TreeNode(data)\n",
        "    return node"
      ]
    },
    {
      "cell_type": "code",
      "execution_count": 48,
      "id": "heavy-consent",
      "metadata": {
        "id": "heavy-consent"
      },
      "outputs": [],
      "source": [
        "tree2 = parse_tuple(((1,3,None), 2, ((None, 3, 4), 5, (6, 7, 8))))"
      ]
    },
    {
      "cell_type": "markdown",
      "id": "urban-result",
      "metadata": {
        "id": "urban-result"
      },
      "source": [
        "We can now examine the tree to verify that it was constructed as expected.\n",
        "\n",
        "<img src=\"https://i.imgur.com/d7djJAf.png\" width=\"540\">"
      ]
    },
    {
      "cell_type": "markdown",
      "id": "rocky-collar",
      "metadata": {
        "id": "rocky-collar"
      },
      "source": [
        "## Traversing a Binary Tree\n",
        "\n",
        "The following questions are frequently asked in coding interviews and assessments:\n",
        "\n",
        "> **QUESTION 3**: Write a function to perform the _inorder_ traversal of a binary tree.\n",
        "\n",
        "> **QUESTION 4**: Write a function to perform the _preorder_ traversal of a binary tree.\n",
        "\n",
        "> **QUESTION 5**: Write a function to perform the _postorder_ traversal of a binary tree.\n",
        "\n",
        "A *traversal* refers to the process of visiting each node of a tree exactly once. _Visiting a node_ generally refers to adding the node's key to a list. There are three ways to traverse a binary tree and return the list of visited keys: \n",
        "\n",
        "### Inorder traversal\n",
        "\n",
        "\n",
        "\n",
        "  1. Traverse the left subtree recursively inorder.\n",
        "  2. Traverse the current node.\n",
        "  3. Traverse the right subtree recursively inorder.\n",
        "\n",
        "\n",
        "<img src=\"https://i.imgur.com/KCXpMA9.png\" width=\"540\">\n",
        "\n",
        "\n",
        "### Preorder traversal\n",
        "\n",
        "  1. Traverse the current node.\n",
        "  2. Traverse the left subtree recursively preorder.\n",
        "  3. Traverse the right subtree recursively preorder.\n",
        "  \n",
        "<img src=\"https://i.imgur.com/2xrMUWP.png\" width=\"540\">\n",
        "\n",
        "\n",
        "Can you guess how **postorder** traversal works??\n",
        "\n",
        "\n",
        "Here's an implementation of inorder traversal of a binary tree."
      ]
    },
    {
      "cell_type": "code",
      "execution_count": 57,
      "id": "vanilla-capability",
      "metadata": {
        "id": "vanilla-capability"
      },
      "outputs": [],
      "source": [
        "def traverse_in_order(node):\n",
        "    if node is None: \n",
        "        return []\n",
        "    return(traverse_in_order(node.left) + \n",
        "           [node.key] + \n",
        "           traverse_in_order(node.right))"
      ]
    },
    {
      "cell_type": "code",
      "execution_count": 58,
      "id": "natural-nashville",
      "metadata": {
        "id": "natural-nashville"
      },
      "outputs": [],
      "source": [
        "tree = parse_tuple(((1,3,None), 2, ((None, 3, 4), 5, (6, 7, 8))))"
      ]
    },
    {
      "cell_type": "code",
      "execution_count": 60,
      "id": "continent-twins",
      "metadata": {
        "colab": {
          "base_uri": "https://localhost:8080/"
        },
        "id": "continent-twins",
        "outputId": "d9779352-a689-4967-b798-d1f4a233b93d"
      },
      "outputs": [
        {
          "output_type": "execute_result",
          "data": {
            "text/plain": [
              "[1, 3, 2, 3, 4, 5, 6, 7, 8]"
            ]
          },
          "metadata": {},
          "execution_count": 60
        }
      ],
      "source": [
        "traverse_in_order(tree)"
      ]
    },
    {
      "cell_type": "markdown",
      "id": "vietnamese-difficulty",
      "metadata": {
        "id": "vietnamese-difficulty"
      },
      "source": [
        "## Height and Size of a Binary Tree\n",
        "\n",
        "\n",
        "> **QUESTION 6**: Write a function to calculate the height/depth of a binary tree\n",
        "\n",
        "> **QUESTION 7**: Write a function to count the number of nodes in a binary tree\n",
        "\n",
        "\n",
        "The _height/depth_ of a binary tree is defined as the length of the longest path from its root node to a leaf. It can be computed recursively, as follows:\n"
      ]
    },
    {
      "cell_type": "code",
      "execution_count": 62,
      "id": "occasional-supplier",
      "metadata": {
        "id": "occasional-supplier"
      },
      "outputs": [],
      "source": [
        "def tree_height(node):\n",
        "    if node is None:\n",
        "        return 0\n",
        "    return 1 + max(tree_height(node.left), tree_height(node.right))"
      ]
    },
    {
      "cell_type": "markdown",
      "id": "potential-jefferson",
      "metadata": {
        "id": "potential-jefferson"
      },
      "source": [
        "Let's compute the height of this tree:\n",
        "\n",
        "<img src=\"https://i.imgur.com/d7djJAf.png\" width=\"540\">"
      ]
    },
    {
      "cell_type": "code",
      "execution_count": 63,
      "id": "integrated-experiment",
      "metadata": {
        "colab": {
          "base_uri": "https://localhost:8080/"
        },
        "id": "integrated-experiment",
        "outputId": "6d6e1b9b-4d72-42a1-9959-c8cd75b2b3b2"
      },
      "outputs": [
        {
          "output_type": "execute_result",
          "data": {
            "text/plain": [
              "4"
            ]
          },
          "metadata": {},
          "execution_count": 63
        }
      ],
      "source": [
        "tree_height(tree)"
      ]
    },
    {
      "cell_type": "markdown",
      "id": "collect-official",
      "metadata": {
        "id": "collect-official"
      },
      "source": [
        "Here's a function to count the number of nodes in a binary tree."
      ]
    },
    {
      "cell_type": "code",
      "execution_count": 64,
      "id": "presidential-development",
      "metadata": {
        "id": "presidential-development"
      },
      "outputs": [],
      "source": [
        "def tree_size(node):\n",
        "    if node is None:\n",
        "        return 0\n",
        "    return 1 + tree_size(node.left) + tree_size(node.right)"
      ]
    },
    {
      "cell_type": "markdown",
      "id": "painted-auditor",
      "metadata": {
        "id": "painted-auditor"
      },
      "source": [
        "As a final step, let's compile all the functions we've written so far as methods withing the `TreeNode` class itself. Encapsulation of data and functionality within the same class is a good programming practice."
      ]
    },
    {
      "cell_type": "code",
      "execution_count": 66,
      "id": "secret-macintosh",
      "metadata": {
        "id": "secret-macintosh"
      },
      "outputs": [],
      "source": [
        "class TreeNode():\n",
        "    def __init__(self, key):\n",
        "        self.key, self.left, self.right = key, None, None\n",
        "    \n",
        "    def height(self):\n",
        "        if self is None:\n",
        "            return 0\n",
        "        return 1 + max(TreeNode.height(self.left), TreeNode.height(self.right))\n",
        "    \n",
        "    def size(self):\n",
        "        if self is None:\n",
        "            return 0\n",
        "        return 1 + TreeNode.size(self.left) + TreeNode.size(self.right)\n",
        "\n",
        "    def traverse_in_order(self):\n",
        "        if self is None: \n",
        "            return []\n",
        "        return (TreeNode.traverse_in_order(self.left) + \n",
        "                [self.key] + \n",
        "                TreeNode.traverse_in_order(self.right))\n",
        "    \n",
        "    def display_keys(self, space='\\t', level=0):\n",
        "        # If the node is empty\n",
        "        if self is None:\n",
        "            print(space*level + '∅')\n",
        "            return   \n",
        "\n",
        "        # If the node is a leaf \n",
        "        if self.left is None and self.right is None:\n",
        "            print(space*level + str(self.key))\n",
        "            return\n",
        "\n",
        "        # If the node has children\n",
        "        display_keys(self.right, space, level+1)\n",
        "        print(space*level + str(self.key))\n",
        "        display_keys(self.left,space, level+1)    \n",
        "    \n",
        "    def to_tuple(self):\n",
        "        if self is None:\n",
        "            return None\n",
        "        if self.left is None and self.right is None:\n",
        "            return self.key\n",
        "        return TreeNode.to_tuple(self.left),  self.key, TreeNode.to_tuple(self.right)\n",
        "    \n",
        "    def __str__(self):\n",
        "        return \"BinaryTree <{}>\".format(self.to_tuple())\n",
        "    \n",
        "    def __repr__(self):\n",
        "        return \"BinaryTree <{}>\".format(self.to_tuple())\n",
        "    \n",
        "    @staticmethod    \n",
        "    def parse_tuple(data):\n",
        "        if data is None:\n",
        "            node = None\n",
        "        elif isinstance(data, tuple) and len(data) == 3:\n",
        "            node = TreeNode(data[1])\n",
        "            node.left = TreeNode.parse_tuple(data[0])\n",
        "            node.right = TreeNode.parse_tuple(data[2])\n",
        "        else:\n",
        "            node = TreeNode(data)\n",
        "        return node"
      ]
    },
    {
      "cell_type": "markdown",
      "id": "dangerous-sweet",
      "metadata": {
        "id": "dangerous-sweet"
      },
      "source": [
        "## Binary Search Tree (BST)\n",
        "\n",
        "A binary search tree or BST is a binary tree that satisfies the following conditions:\n",
        "\n",
        "1. The left subtree of any node only contains nodes with keys less than the node's key\n",
        "2. The right subtree of any node only contains nodes with keys greater than the node's key\n",
        "\n",
        "It follows from the above conditions that every subtree of a binary search tree must also be a binary search tree.\n",
        "\n",
        "\n",
        "> **QUESTION 8**: Write a function to check if a binary tree is a binary search tree (BST).\n",
        "\n",
        "> **QUESTION 9**: Write a function to find the maximum key in a binary tree.\n",
        "\n",
        "> **QUESTION 10**: Write a function to find the minimum key in a binary tree.\n",
        "\n",
        "\n",
        "Here's a function that covers all of the above:"
      ]
    },
    {
      "cell_type": "code",
      "execution_count": 75,
      "id": "silver-credit",
      "metadata": {
        "id": "silver-credit"
      },
      "outputs": [],
      "source": [
        "def remove_none(nums):\n",
        "    return [x for x in nums if x is not None]\n",
        "\n",
        "def is_bst(node):\n",
        "    if node is None:\n",
        "        return True, None, None\n",
        "    \n",
        "    is_bst_l, min_l, max_l = is_bst(node.left)\n",
        "    is_bst_r, min_r, max_r = is_bst(node.right)\n",
        "    \n",
        "    is_bst_node = (is_bst_l and is_bst_r and \n",
        "              (max_l is None or node.key > max_l) and \n",
        "              (min_r is None or node.key < min_r))\n",
        "    \n",
        "    min_key = min(remove_none([min_l, node.key, min_r]))\n",
        "    max_key = max(remove_none([max_l, node.key, max_r]))\n",
        "    \n",
        "    # print(node.key, min_key, max_key, is_bst_node)\n",
        "        \n",
        "    return is_bst_node, min_key, max_key"
      ]
    },
    {
      "cell_type": "code",
      "execution_count": 76,
      "id": "dying-rates",
      "metadata": {
        "id": "dying-rates"
      },
      "outputs": [],
      "source": [
        "tree1 = TreeNode.parse_tuple(((1, 3, None), 2, ((None, 3, 4), 5, (6, 7, 8))))"
      ]
    },
    {
      "cell_type": "code",
      "execution_count": 77,
      "id": "innocent-triumph",
      "metadata": {
        "colab": {
          "base_uri": "https://localhost:8080/"
        },
        "id": "innocent-triumph",
        "outputId": "3824abcf-2e69-4531-f978-ea59dd66842a"
      },
      "outputs": [
        {
          "output_type": "execute_result",
          "data": {
            "text/plain": [
              "(False, 1, 8)"
            ]
          },
          "metadata": {},
          "execution_count": 77
        }
      ],
      "source": [
        "is_bst(tree1)"
      ]
    },
    {
      "cell_type": "markdown",
      "id": "adjustable-upper",
      "metadata": {
        "id": "adjustable-upper"
      },
      "source": [
        "## Storing Key-Value Pairs using BSTs\n",
        "\n",
        "Recall that we need to store user objects with each key in our BST. Let's define new class `BSTNode` to represent the nodes of of our tree. Apart from having properties `key`, `left` and `right`, we'll also store a `value` and pointer to the parent node (for easier upward traversal)."
      ]
    },
    {
      "cell_type": "code",
      "execution_count": 80,
      "id": "polish-maker",
      "metadata": {
        "id": "polish-maker"
      },
      "outputs": [],
      "source": [
        "class BSTNode():\n",
        "    def __init__(self, key, value=None):\n",
        "        self.key = key\n",
        "        self.value = value\n",
        "        self.left = None\n",
        "        self.right = None\n",
        "        self.parent = None"
      ]
    },
    {
      "cell_type": "markdown",
      "id": "latin-discharge",
      "metadata": {
        "id": "latin-discharge"
      },
      "source": [
        "### Insertion into BST\n",
        "\n",
        "\n",
        "> **QUESTION 11**: Write a function to insert a new node into a BST.\n",
        "\n",
        "\n",
        "We use the BST-property to perform insertion efficiently: \n",
        "\n",
        "1. Starting from the root node, we compare the key to be inserted with the current node's key\n",
        "2. If the key is smaller, we recursively insert it in the left subtree (if it exists) or attach it as as the left child if no left subtree exists.\n",
        "3. If the key is larger, we recursively insert it in the right subtree (if it exists) or attach it as as the right child if no right subtree exists.\n",
        "\n",
        "Here's a recursive implementation of `insert`."
      ]
    },
    {
      "cell_type": "code",
      "execution_count": 86,
      "id": "technical-parks",
      "metadata": {
        "id": "technical-parks"
      },
      "outputs": [],
      "source": [
        "def insert(node, key, value):\n",
        "    if node is None:\n",
        "        node = BSTNode(key, value)\n",
        "    elif key < node.key:\n",
        "        node.left = insert(node.left, key, value)\n",
        "        node.left.parent = node\n",
        "    elif key > node.key:\n",
        "        node.right = insert(node.right, key, value)\n",
        "        node.right.parent = node\n",
        "    return node"
      ]
    },
    {
      "cell_type": "markdown",
      "id": "affecting-hormone",
      "metadata": {
        "id": "affecting-hormone"
      },
      "source": [
        "### Finding a Node in BST\n",
        "\n",
        "> **QUESTION 11**: Find the value associated with a given key in a BST.\n",
        "\n",
        "We can follow a recursive strategy similar to insertion to find the node with a given key within a BST."
      ]
    },
    {
      "cell_type": "code",
      "execution_count": 93,
      "id": "bizarre-concentrate",
      "metadata": {
        "id": "bizarre-concentrate"
      },
      "outputs": [],
      "source": [
        "def find(node, key):\n",
        "    if node is None:\n",
        "        return None\n",
        "    if key == node.key:\n",
        "        return node\n",
        "    if key < node.key:\n",
        "        return find(node.left, key)\n",
        "    if key > node.key:\n",
        "        return find(node.right, key)"
      ]
    },
    {
      "cell_type": "code",
      "execution_count": 94,
      "id": "chemical-switzerland",
      "metadata": {
        "id": "chemical-switzerland"
      },
      "outputs": [],
      "source": [
        "node = find(tree, 'hemanth')"
      ]
    },
    {
      "cell_type": "markdown",
      "id": "fuzzy-general",
      "metadata": {
        "id": "fuzzy-general"
      },
      "source": [
        "### Updating a value in a BST\n",
        "\n",
        "> **QUESTION 12:** Write a function to update the value associated with a given key within a BST\n",
        "\n",
        "We can use `find` to locate the node to be updated, and simply update it's value."
      ]
    },
    {
      "cell_type": "code",
      "execution_count": 96,
      "id": "unlikely-geneva",
      "metadata": {
        "id": "unlikely-geneva"
      },
      "outputs": [],
      "source": [
        "def update(node, key, value):\n",
        "    target = find(node, key)\n",
        "    if target is not None:\n",
        "        target.value = value"
      ]
    },
    {
      "cell_type": "code",
      "execution_count": 97,
      "id": "requested-medicine",
      "metadata": {
        "id": "requested-medicine"
      },
      "outputs": [],
      "source": [
        "update(tree, 'hemanth', User('hemanth', 'Hemanth J', 'hemanthj@example.com'))"
      ]
    },
    {
      "cell_type": "markdown",
      "id": "dramatic-bleeding",
      "metadata": {
        "id": "dramatic-bleeding"
      },
      "source": [
        "### List the nodes\n",
        "\n",
        "> **QUESTION 13:** Write a function to retrieve all the key-values pairs stored in a BST in the sorted order of keys.\n",
        "\n",
        "The nodes can be listed in sorted order by performing an inorder traversal of the BST."
      ]
    },
    {
      "cell_type": "code",
      "execution_count": 99,
      "id": "independent-contrary",
      "metadata": {
        "id": "independent-contrary"
      },
      "outputs": [],
      "source": [
        "def list_all(node):\n",
        "    if node is None:\n",
        "        return []\n",
        "    return list_all(node.left) + [(node.key, node.value)] + list_all(node.right)"
      ]
    },
    {
      "cell_type": "markdown",
      "id": "constitutional-charleston",
      "metadata": {
        "id": "constitutional-charleston"
      },
      "source": [
        "## Balanced Binary Trees\n",
        "\n",
        "> **QUESTION 14**: Write a function to determine if a binary tree is balanced.\n",
        "\n",
        "Here's a recursive strategy:\n",
        "\n",
        "1. Ensure that the left subtree is balanced.\n",
        "2. Ensure that the right subtree is balanced.\n",
        "3. Ensure that the difference between heights of left subtree and right subtree is not more than 1.\n",
        "\n"
      ]
    },
    {
      "cell_type": "code",
      "execution_count": 103,
      "id": "downtown-isaac",
      "metadata": {
        "id": "downtown-isaac"
      },
      "outputs": [],
      "source": [
        "def is_balanced(node):\n",
        "    if node is None:\n",
        "        return True, 0\n",
        "    balanced_l, height_l = is_balanced(node.left)\n",
        "    balanced_r, height_r = is_balanced(node.right)\n",
        "    balanced = balanced_l and balanced_r and abs(height_l - height_r) <=1\n",
        "    height = 1 + max(height_l, height_r)\n",
        "    return balanced, height"
      ]
    },
    {
      "cell_type": "markdown",
      "id": "juvenile-coating",
      "metadata": {
        "id": "juvenile-coating"
      },
      "source": [
        "## Balanced Binary Search Trees\n",
        "\n",
        "> **QUESTION 15**: Write a function to create a balanced BST from a sorted list/array of key-value pairs.\n",
        "\n",
        "We can use a recursive strategy here, turning the middle element of the list into the root, and recursively creating left and right subtrees.\n"
      ]
    },
    {
      "cell_type": "code",
      "execution_count": null,
      "id": "equivalent-nerve",
      "metadata": {
        "id": "equivalent-nerve"
      },
      "outputs": [],
      "source": [
        "def make_balanced_bst(data, lo=0, hi= None, parent=None):\n",
        "    if hi is None:\n",
        "        hi = len(data) - 1\n",
        "    if lo > hi:\n",
        "        return None\n",
        "    \n",
        "    mid = (lo + hi) // 2\n",
        "    key, value = data[mid]\n",
        "\n",
        "    root = BSTNode(key, value)\n",
        "    root.parent = parent\n",
        "    root.left = make_balanced_bst(data, lo, mid-1, root)\n",
        "    root.right = make_balanced_bst(data, mid+1, hi, root)\n",
        "    \n",
        "    return root\n",
        "    "
      ]
    },
    {
      "cell_type": "markdown",
      "id": "computational-leader",
      "metadata": {
        "id": "computational-leader"
      },
      "source": [
        "## Balancing an Unbalanced BST\n",
        "\n",
        "> **QUESTION 16:** Write a function to balance an unbalanced binary search tree.\n",
        "\n",
        "We first perform an inorder traversal, then create a balanced BST using the function defined earlier."
      ]
    },
    {
      "cell_type": "code",
      "execution_count": null,
      "id": "enclosed-criterion",
      "metadata": {
        "id": "enclosed-criterion"
      },
      "outputs": [],
      "source": [
        "def balance_bst(node):\n",
        "    return make_balanced_bst(list_all(node))"
      ]
    },
    {
      "cell_type": "code",
      "execution_count": null,
      "id": "informational-flooring",
      "metadata": {
        "id": "informational-flooring"
      },
      "outputs": [],
      "source": [
        "tree1 = None\n",
        "\n",
        "for user in users:\n",
        "    tree1 = insert(tree1, user.username, user)"
      ]
    },
    {
      "cell_type": "code",
      "execution_count": null,
      "id": "naval-arrangement",
      "metadata": {
        "id": "naval-arrangement"
      },
      "outputs": [],
      "source": [
        "tree2 = balance_bst(tree1)"
      ]
    },
    {
      "cell_type": "markdown",
      "id": "lesbian-detector",
      "metadata": {
        "id": "lesbian-detector"
      },
      "source": [
        "## A Python-Friendly Treemap \n",
        "\n",
        "We are now ready to return to our original problem statement.\n",
        "\n",
        "> **QUESTION 1**: As a senior backend engineer at Jovian, you are tasked with developing a fast in-memory data structure to manage profile information (username, name and email) for 100 million users. It should allow the following operations to be performed efficiently:\n",
        "> \n",
        "> 1. **Insert** the profile information for a new user.\n",
        "> 2. **Find** the profile information of a user, given their username\n",
        "> 3. **Update** the profile information of a user, given their usrname\n",
        "> 5. **List** all the users of the platform, sorted by username\n",
        ">\n",
        "> You can assume that usernames are unique. \n",
        "\n",
        "\n",
        "\n",
        "We can create a generic class `TreeMap` which supports all the operations specified in the original problem statement in a python-friendly manner."
      ]
    },
    {
      "cell_type": "code",
      "execution_count": null,
      "id": "global-aberdeen",
      "metadata": {
        "id": "global-aberdeen"
      },
      "outputs": [],
      "source": [
        "class TreeMap():\n",
        "    def __init__(self):\n",
        "        self.root = None\n",
        "        \n",
        "    def __setitem__(self, key, value):\n",
        "        node = find(self.root, key)\n",
        "        if not node:\n",
        "            self.root = insert(self.root, key, value)\n",
        "            self.root = balance_bst(self.root)\n",
        "        else:\n",
        "            update(self.root, key, value)\n",
        "            \n",
        "        \n",
        "    def __getitem__(self, key):\n",
        "        node = find(self.root, key)\n",
        "        return node.value if node else None\n",
        "    \n",
        "    def __iter__(self):\n",
        "        return (x for x in list_all(self.root))\n",
        "    \n",
        "    def __len__(self):\n",
        "        return tree_size(self.root)\n",
        "    \n"
      ]
    }
  ],
  "metadata": {
    "kernelspec": {
      "display_name": "Python 3",
      "language": "python",
      "name": "python3"
    },
    "language_info": {
      "codemirror_mode": {
        "name": "ipython",
        "version": 3
      },
      "file_extension": ".py",
      "mimetype": "text/x-python",
      "name": "python",
      "nbconvert_exporter": "python",
      "pygments_lexer": "ipython3",
      "version": "3.6.12"
    },
    "colab": {
      "provenance": []
    }
  },
  "nbformat": 4,
  "nbformat_minor": 5
}